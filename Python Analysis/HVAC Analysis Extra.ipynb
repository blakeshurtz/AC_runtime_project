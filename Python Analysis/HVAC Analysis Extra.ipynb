{
 "cells": [
  {
   "cell_type": "code",
   "execution_count": null,
   "metadata": {},
   "outputs": [],
   "source": [
    "#run this code to label only final line\n",
    "for i in range(i, n+1):\n",
    "    if df.loc[i-1, 'amps'] < df.loc[i, 'amps']:\n",
    "        df.loc[i-1, 'amps'] = 0\n",
    "    else:\n",
    "        df.loc[i-1, 'amps'] = df.loc[i-1, 'amps']\n",
    "    i = i + 1"
   ]
  }
 ],
 "metadata": {
  "kernelspec": {
   "display_name": "Python 3",
   "language": "python",
   "name": "python3"
  },
  "language_info": {
   "codemirror_mode": {
    "name": "ipython",
    "version": 3
   },
   "file_extension": ".py",
   "mimetype": "text/x-python",
   "name": "python",
   "nbconvert_exporter": "python",
   "pygments_lexer": "ipython3",
   "version": "3.7.3"
  }
 },
 "nbformat": 4,
 "nbformat_minor": 2
}
